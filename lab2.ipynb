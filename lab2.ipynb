{
  "nbformat": 4,
  "nbformat_minor": 0,
  "metadata": {
    "colab": {
      "provenance": []
    },
    "kernelspec": {
      "name": "python3",
      "display_name": "Python 3"
    },
    "language_info": {
      "name": "python"
    }
  },
  "cells": [
    {
      "cell_type": "code",
      "execution_count": null,
      "metadata": {
        "id": "G05XEFmGRCCG"
      },
      "outputs": [],
      "source": [
        "def squareRootFinder(number:int,decimals:int)->str\n",
        "  start = 0\n",
        "  end = number \n",
        "  answer = 1\n",
        "  \n",
        "  while start<= end: #finding the square root of the number before the decimal part\n",
        "    mid = int((start+end)/2)\n",
        "    if mid*mid == number:\n",
        "      answer = mid\n",
        "    if mid*mid < number:\n",
        "      start = mid + 1\n",
        "      answer = mid\n",
        "    else:\n",
        "      end = mid - 1\n",
        "  \n",
        "  deci = 0.1\n",
        "  \n",
        "  for i in range (0, decimals): #getting the approximation to the desired decimal place \n",
        "    while answer * answer <= number:\n",
        "      answer+= deci\n",
        "    answer = answer - deci\n",
        "    deci = deci / 10\n",
        "  return answer"
      ]
    },
    {
      "cell_type": "code",
      "source": [
        "def nthRootFinder(number:int,n:int)->str\n",
        "  start = 0\n",
        "  end = number\n",
        "  answer = 1\n",
        "\n",
        "  while start<= end:\n",
        "    mid = int((start+end)/2)\n",
        "      if mid**n == number:\n",
        "        answer = mid\n",
        "      if mid**n < number:\n",
        "        start = mid + 1\n",
        "        answer = mid\n",
        "      else:\n",
        "        end = mid - 1\n",
        "    return answer\n"
      ],
      "metadata": {
        "id": "twd3WzlSRehy"
      },
      "execution_count": null,
      "outputs": []
    }
  ]
}